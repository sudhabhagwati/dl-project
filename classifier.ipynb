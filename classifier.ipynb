{
 "cells": [
  {
   "cell_type": "code",
   "execution_count": 1,
   "metadata": {},
   "outputs": [],
   "source": [
    "import csv\n",
    "import numpy as np\n",
    "import pandas as pd\n",
    "import tensorflow as tf\n",
    "import matplotlib.pyplot as plt\n",
    "import matplotlib.style as style\n",
    "from inspect import signature\n",
    "from sklearn.utils import shuffle\n",
    "from sklearn.metrics import roc_curve\n",
    "from sklearn.metrics import roc_auc_score\n",
    "from sklearn.metrics import confusion_matrix\n",
    "from sklearn.preprocessing import StandardScaler\n",
    "from sklearn.metrics import precision_recall_curve\n",
    "from sklearn.metrics import average_precision_score\n",
    "from sklearn.model_selection import train_test_split"
   ]
  },
  {
   "cell_type": "code",
   "execution_count": 2,
   "metadata": {},
   "outputs": [],
   "source": [
    "style.use('seaborn-poster')\n",
    "style.use('seaborn-whitegrid')"
   ]
  },
  {
   "cell_type": "code",
   "execution_count": 3,
   "metadata": {},
   "outputs": [],
   "source": [
    "# set random seed for random number generator\n",
    "np.random.seed(30)"
   ]
  },
  {
   "cell_type": "code",
   "execution_count": 4,
   "metadata": {},
   "outputs": [],
   "source": [
    "# read the data from the excel sheet into a dataframe\n",
    "dataset = pd.read_excel('Pubchem.xlsx')\n",
    "# dataset = pd.read_excel('MACCS.xlsx')"
   ]
  },
  {
   "cell_type": "code",
   "execution_count": 5,
   "metadata": {},
   "outputs": [],
   "source": [
    "# number of features as input dimension\n",
    "input_dim = dataset.shape[1]-2"
   ]
  },
  {
   "cell_type": "code",
   "execution_count": 6,
   "metadata": {},
   "outputs": [],
   "source": [
    "# input matrix to neural network of size (no. of training data X no. of features)\n",
    "X = np.asarray(dataset[dataset.columns[1:(dataset.shape[1]-1)]])\n",
    "\n",
    "# true output labels\n",
    "Y = np.asarray(dataset['IC50'])\n",
    "Y = (Y < 100000)\n",
    "Y = Y.astype(int)\n",
    "\n",
    "# shuffle and reshape the data \n",
    "Z = np.zeros((X.shape[0],X.shape[1]+1))\n",
    "Z[:,:-1] = X\n",
    "Z[:,-1] = Y\n",
    "Z = shuffle(Z)\n",
    "X = Z[:,:-1]\n",
    "Y = Z[:,-1]\n",
    "Y = Y.reshape(dataset.shape[0],1)"
   ]
  },
  {
   "cell_type": "code",
   "execution_count": 7,
   "metadata": {},
   "outputs": [],
   "source": [
    "# split the data into training and test set\n",
    "X_train, X_test, y_train, y_test = train_test_split(X, Y, test_size = 0.25)\n",
    "\n",
    "# normalize and scale both training and test inputs\n",
    "sc = StandardScaler()\n",
    "sc.fit(X_train)\n",
    "X_train = sc.transform(X_train)\n",
    "sc.fit(X_test)\n",
    "X_test = sc.transform(X_test)"
   ]
  },
  {
   "cell_type": "code",
   "execution_count": 8,
   "metadata": {
    "scrolled": true
   },
   "outputs": [
    {
     "name": "stdout",
     "output_type": "stream",
     "text": [
      "Epoch 1/85\n",
      "6525/6525 [==============================] - 2s 335us/sample - loss: 0.4997 - accuracy: 0.9661\n",
      "Epoch 2/85\n",
      "6525/6525 [==============================] - 2s 297us/sample - loss: 0.2126 - accuracy: 0.9854\n",
      "Epoch 3/85\n",
      "6525/6525 [==============================] - 2s 300us/sample - loss: 0.1306 - accuracy: 0.9876\n",
      "Epoch 4/85\n",
      "6525/6525 [==============================] - 2s 307us/sample - loss: 0.1083 - accuracy: 0.9864\n",
      "Epoch 5/85\n",
      "6525/6525 [==============================] - 2s 297us/sample - loss: 0.0891 - accuracy: 0.9900\n",
      "Epoch 6/85\n",
      "6525/6525 [==============================] - 2s 304us/sample - loss: 0.0906 - accuracy: 0.9873\n",
      "Epoch 7/85\n",
      "6525/6525 [==============================] - 2s 303us/sample - loss: 0.0857 - accuracy: 0.9874\n",
      "Epoch 8/85\n",
      "6525/6525 [==============================] - 2s 303us/sample - loss: 0.0623 - accuracy: 0.9926\n",
      "Epoch 9/85\n",
      "6525/6525 [==============================] - 2s 381us/sample - loss: 0.0744 - accuracy: 0.9896\n",
      "Epoch 10/85\n",
      "6525/6525 [==============================] - 2s 374us/sample - loss: 0.0781 - accuracy: 0.9877\n",
      "Epoch 11/85\n",
      "6525/6525 [==============================] - 2s 366us/sample - loss: 0.0764 - accuracy: 0.9882\n",
      "Epoch 12/85\n",
      "6525/6525 [==============================] - 3s 386us/sample - loss: 0.0630 - accuracy: 0.9913\n",
      "Epoch 13/85\n",
      "6525/6525 [==============================] - 2s 318us/sample - loss: 0.0528 - accuracy: 0.9934\n",
      "Epoch 14/85\n",
      "6525/6525 [==============================] - 2s 318us/sample - loss: 0.0580 - accuracy: 0.9905\n",
      "Epoch 15/85\n",
      "6525/6525 [==============================] - 2s 315us/sample - loss: 0.0619 - accuracy: 0.9911\n",
      "Epoch 16/85\n",
      "6525/6525 [==============================] - 2s 296us/sample - loss: 0.0519 - accuracy: 0.9940\n",
      "Epoch 17/85\n",
      "6525/6525 [==============================] - 2s 294us/sample - loss: 0.0437 - accuracy: 0.9942\n",
      "Epoch 18/85\n",
      "6525/6525 [==============================] - 2s 293us/sample - loss: 0.0466 - accuracy: 0.9931\n",
      "Epoch 19/85\n",
      "6525/6525 [==============================] - 2s 297us/sample - loss: 0.0466 - accuracy: 0.9940\n",
      "Epoch 20/85\n",
      "6525/6525 [==============================] - 2s 296us/sample - loss: 0.0498 - accuracy: 0.9936\n",
      "Epoch 21/85\n",
      "6525/6525 [==============================] - 2s 297us/sample - loss: 0.0431 - accuracy: 0.9945\n",
      "Epoch 22/85\n",
      "6525/6525 [==============================] - 2s 296us/sample - loss: 0.0374 - accuracy: 0.9959\n",
      "Epoch 23/85\n",
      "6525/6525 [==============================] - 2s 295us/sample - loss: 0.0373 - accuracy: 0.9948\n",
      "Epoch 24/85\n",
      "6525/6525 [==============================] - 2s 295us/sample - loss: 0.0385 - accuracy: 0.9946\n",
      "Epoch 25/85\n",
      "6525/6525 [==============================] - 2s 297us/sample - loss: 0.0508 - accuracy: 0.9908\n",
      "Epoch 26/85\n",
      "6525/6525 [==============================] - 2s 297us/sample - loss: 0.0423 - accuracy: 0.9942\n",
      "Epoch 27/85\n",
      "6525/6525 [==============================] - 2s 295us/sample - loss: 0.0333 - accuracy: 0.9963\n",
      "Epoch 28/85\n",
      "6525/6525 [==============================] - 2s 295us/sample - loss: 0.0320 - accuracy: 0.9965\n",
      "Epoch 29/85\n",
      "6525/6525 [==============================] - 2s 294us/sample - loss: 0.0352 - accuracy: 0.9946\n",
      "Epoch 30/85\n",
      "6525/6525 [==============================] - 2s 296us/sample - loss: 0.0337 - accuracy: 0.9959\n",
      "Epoch 31/85\n",
      "6525/6525 [==============================] - 2s 296us/sample - loss: 0.0401 - accuracy: 0.9939\n",
      "Epoch 32/85\n",
      "6525/6525 [==============================] - 2s 298us/sample - loss: 0.0374 - accuracy: 0.9940\n",
      "Epoch 33/85\n",
      "6525/6525 [==============================] - 2s 297us/sample - loss: 0.0286 - accuracy: 0.9974\n",
      "Epoch 34/85\n",
      "6525/6525 [==============================] - 2s 295us/sample - loss: 0.0264 - accuracy: 0.9972\n",
      "Epoch 35/85\n",
      "6525/6525 [==============================] - 2s 296us/sample - loss: 0.0265 - accuracy: 0.9972\n",
      "Epoch 36/85\n",
      "6525/6525 [==============================] - 2s 295us/sample - loss: 0.0277 - accuracy: 0.9957\n",
      "Epoch 37/85\n",
      "6525/6525 [==============================] - 2s 295us/sample - loss: 0.0351 - accuracy: 0.9940\n",
      "Epoch 38/85\n",
      "6525/6525 [==============================] - 2s 295us/sample - loss: 0.0312 - accuracy: 0.9972\n",
      "Epoch 39/85\n",
      "6525/6525 [==============================] - 2s 296us/sample - loss: 0.0306 - accuracy: 0.9960\n",
      "Epoch 40/85\n",
      "6525/6525 [==============================] - 2s 296us/sample - loss: 0.0353 - accuracy: 0.9962\n",
      "Epoch 41/85\n",
      "6525/6525 [==============================] - 2s 298us/sample - loss: 0.0273 - accuracy: 0.9969\n",
      "Epoch 42/85\n",
      "6525/6525 [==============================] - 2s 299us/sample - loss: 0.0262 - accuracy: 0.9969\n",
      "Epoch 43/85\n",
      "6525/6525 [==============================] - 2s 298us/sample - loss: 0.0254 - accuracy: 0.9969\n",
      "Epoch 44/85\n",
      "6525/6525 [==============================] - 2s 298us/sample - loss: 0.0303 - accuracy: 0.9959\n",
      "Epoch 45/85\n",
      "6525/6525 [==============================] - 2s 299us/sample - loss: 0.0293 - accuracy: 0.9966\n",
      "Epoch 46/85\n",
      "6525/6525 [==============================] - 2s 296us/sample - loss: 0.0309 - accuracy: 0.9945\n",
      "Epoch 47/85\n",
      "6525/6525 [==============================] - 2s 295us/sample - loss: 0.0306 - accuracy: 0.9960\n",
      "Epoch 48/85\n",
      "6525/6525 [==============================] - 2s 297us/sample - loss: 0.0291 - accuracy: 0.9960\n",
      "Epoch 49/85\n",
      "6525/6525 [==============================] - 2s 298us/sample - loss: 0.0282 - accuracy: 0.9966\n",
      "Epoch 50/85\n",
      "6525/6525 [==============================] - 2s 299us/sample - loss: 0.0237 - accuracy: 0.9980\n",
      "Epoch 51/85\n",
      "6525/6525 [==============================] - 2s 298us/sample - loss: 0.0276 - accuracy: 0.9962\n",
      "Epoch 52/85\n",
      "6525/6525 [==============================] - 2s 299us/sample - loss: 0.0282 - accuracy: 0.9965\n",
      "Epoch 53/85\n",
      "6525/6525 [==============================] - 2s 300us/sample - loss: 0.0268 - accuracy: 0.9966\n",
      "Epoch 54/85\n",
      "6525/6525 [==============================] - 2s 300us/sample - loss: 0.0247 - accuracy: 0.9979\n",
      "Epoch 55/85\n",
      "6525/6525 [==============================] - 2s 299us/sample - loss: 0.0225 - accuracy: 0.9975\n",
      "Epoch 56/85\n",
      "6525/6525 [==============================] - 2s 300us/sample - loss: 0.0213 - accuracy: 0.9977\n",
      "Epoch 57/85\n",
      "6525/6525 [==============================] - 2s 298us/sample - loss: 0.0216 - accuracy: 0.9974\n",
      "Epoch 58/85\n",
      "6525/6525 [==============================] - 2s 296us/sample - loss: 0.0191 - accuracy: 0.9983\n",
      "Epoch 59/85\n",
      "6525/6525 [==============================] - 2s 297us/sample - loss: 0.0244 - accuracy: 0.9963\n",
      "Epoch 60/85\n",
      "6525/6525 [==============================] - 2s 298us/sample - loss: 0.0334 - accuracy: 0.9939\n",
      "Epoch 61/85\n",
      "6525/6525 [==============================] - 2s 298us/sample - loss: 0.0314 - accuracy: 0.9954\n",
      "Epoch 62/85\n",
      "6525/6525 [==============================] - 2s 298us/sample - loss: 0.0252 - accuracy: 0.9974\n",
      "Epoch 63/85\n",
      "6525/6525 [==============================] - 2s 300us/sample - loss: 0.0231 - accuracy: 0.9977\n",
      "Epoch 64/85\n",
      "6525/6525 [==============================] - 2s 299us/sample - loss: 0.0201 - accuracy: 0.9983\n",
      "Epoch 65/85\n",
      "6525/6525 [==============================] - 2s 306us/sample - loss: 0.0189 - accuracy: 0.9988\n",
      "Epoch 66/85\n",
      "6525/6525 [==============================] - 2s 303us/sample - loss: 0.0216 - accuracy: 0.9965\n",
      "Epoch 67/85\n",
      "6525/6525 [==============================] - 2s 298us/sample - loss: 0.0238 - accuracy: 0.9971\n",
      "Epoch 68/85\n",
      "6525/6525 [==============================] - 2s 299us/sample - loss: 0.0324 - accuracy: 0.9951\n",
      "Epoch 69/85\n",
      "6525/6525 [==============================] - 2s 301us/sample - loss: 0.0313 - accuracy: 0.9959\n",
      "Epoch 70/85\n",
      "6525/6525 [==============================] - 2s 304us/sample - loss: 0.0244 - accuracy: 0.9968\n",
      "Epoch 71/85\n",
      "6525/6525 [==============================] - 2s 297us/sample - loss: 0.0210 - accuracy: 0.9983\n",
      "Epoch 72/85\n",
      "6525/6525 [==============================] - 2s 303us/sample - loss: 0.0198 - accuracy: 0.9982\n",
      "Epoch 73/85\n",
      "6525/6525 [==============================] - 2s 307us/sample - loss: 0.0165 - accuracy: 0.9986\n",
      "Epoch 74/85\n",
      "6525/6525 [==============================] - 2s 303us/sample - loss: 0.0183 - accuracy: 0.9982\n",
      "Epoch 75/85\n",
      "6525/6525 [==============================] - 2s 300us/sample - loss: 0.0182 - accuracy: 0.9977\n",
      "Epoch 76/85\n",
      "6525/6525 [==============================] - 2s 304us/sample - loss: 0.0199 - accuracy: 0.9980\n",
      "Epoch 77/85\n"
     ]
    },
    {
     "name": "stdout",
     "output_type": "stream",
     "text": [
      "6525/6525 [==============================] - 2s 286us/sample - loss: 0.0329 - accuracy: 0.9948\n",
      "Epoch 78/85\n",
      "6525/6525 [==============================] - 2s 284us/sample - loss: 0.0357 - accuracy: 0.9934\n",
      "Epoch 79/85\n",
      "6525/6525 [==============================] - 2s 283us/sample - loss: 0.0273 - accuracy: 0.9962\n",
      "Epoch 80/85\n",
      "6525/6525 [==============================] - 2s 285us/sample - loss: 0.0224 - accuracy: 0.9975\n",
      "Epoch 81/85\n",
      "6525/6525 [==============================] - 2s 284us/sample - loss: 0.0227 - accuracy: 0.9972\n",
      "Epoch 82/85\n",
      "6525/6525 [==============================] - 2s 283us/sample - loss: 0.0226 - accuracy: 0.9975\n",
      "Epoch 83/85\n",
      "6525/6525 [==============================] - 2s 284us/sample - loss: 0.0177 - accuracy: 0.9991\n",
      "Epoch 84/85\n",
      "6525/6525 [==============================] - 2s 285us/sample - loss: 0.0176 - accuracy: 0.9983\n",
      "Epoch 85/85\n",
      "6525/6525 [==============================] - 2s 283us/sample - loss: 0.0180 - accuracy: 0.9982\n"
     ]
    },
    {
     "data": {
      "text/plain": [
       "<tensorflow.python.keras.callbacks.History at 0x1312ac940>"
      ]
     },
     "execution_count": 8,
     "metadata": {},
     "output_type": "execute_result"
    }
   ],
   "source": [
    "# sequential neural network model\n",
    "model = tf.keras.models.Sequential()\n",
    "model.add(tf.keras.layers.Dense(882, input_dim=input_dim, activation='relu', kernel_regularizer=tf.keras.regularizers.l2(0.001)))\n",
    "model.add(tf.keras.layers.Dense(5, activation='relu', kernel_regularizer=tf.keras.regularizers.l2(0.001)))\n",
    "model.add(tf.keras.layers.Dense(1, activation='sigmoid'))\n",
    "model.compile(loss='binary_crossentropy', optimizer='adam', metrics=['accuracy'])\n",
    "model.fit(X_train, y_train, epochs = 85)"
   ]
  },
  {
   "cell_type": "code",
   "execution_count": 9,
   "metadata": {},
   "outputs": [
    {
     "name": "stdout",
     "output_type": "stream",
     "text": [
      "True negatives: 1523\n",
      "False postives: 9\n",
      "False negatives: 11\n",
      "True positives: 633\n"
     ]
    }
   ],
   "source": [
    "# validate the model using test data \n",
    "y_pred = model.predict(X_test)\n",
    "y_pred = (y_pred > 0.5)\n",
    "\n",
    "# compare the model predictions with true output labels using confusion matrix\n",
    "cm = confusion_matrix(y_test, y_pred)\n",
    "print( 'True negatives: ' + str(cm[0][0]))\n",
    "print( 'False postives: ' + str(cm[0][1]))\n",
    "print( 'False negatives: ' + str(cm[1][0]))\n",
    "print( 'True positives: ' + str(cm[1][1]))"
   ]
  },
  {
   "cell_type": "code",
   "execution_count": 10,
   "metadata": {},
   "outputs": [
    {
     "name": "stdout",
     "output_type": "stream",
     "text": [
      "6525/6525 [==============================] - 1s 127us/sample - loss: 0.0218 - accuracy: 0.9963\n",
      "\n",
      "accuracy: 99.63%\n",
      "2176/2176 [==============================] - 0s 125us/sample - loss: 0.0461 - accuracy: 0.9908\n",
      "\n",
      "accuracy: 99.08%\n"
     ]
    }
   ],
   "source": [
    "# evaluate the model on training data\n",
    "scores = model.evaluate(X_train, y_train)\n",
    "print(\"\\n%s: %.2f%%\" % (model.metrics_names[1], scores[1]*100))\n",
    "\n",
    "# evaluate the model on test data\n",
    "scores = model.evaluate(X_test, y_test)\n",
    "print(\"\\n%s: %.2f%%\" % (model.metrics_names[1], scores[1]*100))"
   ]
  },
  {
   "cell_type": "code",
   "execution_count": 11,
   "metadata": {},
   "outputs": [
    {
     "data": {
      "text/plain": [
       "<matplotlib.legend.Legend at 0x132483940>"
      ]
     },
     "execution_count": 11,
     "metadata": {},
     "output_type": "execute_result"
    },
    {
     "data": {
      "image/png": "[encoded data removed]",
      "text/plain": [
       "<Figure size 921.6x633.6 with 1 Axes>"
      ]
     },
     "metadata": {},
     "output_type": "display_data"
    }
   ],
   "source": [
    "# plot roc curve\n",
    "y_pred= model.predict(X_test).ravel()\n",
    "fpr, tpr, thresholds = roc_curve(y_test, y_pred)\n",
    "auc = roc_auc_score(y_test, y_pred)\n",
    "plt.figure(1)\n",
    "plt.plot([0, 1], [0, 1], 'k--')\n",
    "plt.plot(fpr, tpr, 'b-' ,label='(area = {:.3f})'.format(auc))\n",
    "plt.xlabel('False positive rate')\n",
    "plt.ylabel('True positive rate')\n",
    "plt.title('Receiver Operating Characteristic (ROC) curve')\n",
    "plt.legend(loc='best')\n",
    "# plt.savefig('fig-c1.png')"
   ]
  },
  {
   "cell_type": "code",
   "execution_count": 12,
   "metadata": {},
   "outputs": [
    {
     "name": "stdout",
     "output_type": "stream",
     "text": [
      "Average precision-recall score: 0.99\n"
     ]
    },
    {
     "data": {
      "text/plain": [
       "Text(0.5, 1.0, 'Precision Recall Curve (PRC)')"
      ]
     },
     "execution_count": 12,
     "metadata": {},
     "output_type": "execute_result"
    },
    {
     "data": {
      "image/png": "[encoded data removed]",
      "text/plain": [
       "<Figure size 921.6x633.6 with 1 Axes>"
      ]
     },
     "metadata": {},
     "output_type": "display_data"
    }
   ],
   "source": [
    "# plot prc curve\n",
    "average_precision = average_precision_score(y_test, y_pred)\n",
    "print('Average precision-recall score: {0:0.2f}'.format(average_precision))\n",
    "precision, recall, _ = precision_recall_curve(y_test, y_pred)\n",
    "plt.plot([0, 1], [0.5, 0.5], 'k--')\n",
    "plt.ylim(0.9,1.01)\n",
    "plt.plot(recall, precision, 'b-', label='(Average precision-recall score: = {:.3f})'.format(average_precision))\n",
    "plt.legend(loc='best')\n",
    "plt.xlabel('Recall')\n",
    "plt.ylabel('Precision')\n",
    "plt.title('Precision Recall Curve (PRC)')\n",
    "# plt.savefig('fig-c2.png')"
   ]
  },
  {
   "cell_type": "code",
   "execution_count": null,
   "metadata": {},
   "outputs": [],
   "source": [
    "# read the unknown data set from csv file to dataframe\n",
    "udataset = pd.read_csv('Pubchem_Maybridge.csv')\n",
    "# udataset = pd.read_csv('data/maybridge_descriptors/MACCS_maybridge.csv')"
   ]
  },
  {
   "cell_type": "code",
   "execution_count": null,
   "metadata": {},
   "outputs": [],
   "source": [
    "# curate the unknown dataset to remove duplicates\n",
    "cudataset = udataset\n",
    "d =[]\n",
    "for i in range(udataset.shape[0]-1):\n",
    "    if udataset.loc[i]['Name']==udataset.loc[i+1]['Name']:\n",
    "        d.append(i+1)\n",
    "cudataset = udataset.drop(udataset.index[d])\n",
    "print(cudataset.shape)"
   ]
  },
  {
   "cell_type": "code",
   "execution_count": null,
   "metadata": {},
   "outputs": [],
   "source": [
    "# format the unknown dataset to numpy array to give it as input to neural network model\n",
    "uX = np.asarray(cudataset[cudataset.columns[1:(cudataset.shape[1])]])\n",
    "\n",
    "# normalize and scale the unknown input matrix to be screened\n",
    "sc.fit(uX)\n",
    "uX = sc.transform(uX)\n",
    "\n",
    "# screen the unknown data using neural network model\n",
    "uY = model.predict(uX)\n",
    "\n",
    "# convert the model outputs to true/false (or) active/inactive (or) 1/0\n",
    "uYc = (uY > 0.5)\n",
    "\n",
    "# count the number of actives/true's/1's \n",
    "hits = np.sum(uYc)\n",
    "print(hits)"
   ]
  },
  {
   "cell_type": "code",
   "execution_count": null,
   "metadata": {},
   "outputs": [],
   "source": [
    "# NaN output found and removed\n",
    "np.argwhere(np.isnan(uY)>0)[0]\n",
    "uY[24124] = 0"
   ]
  },
  {
   "cell_type": "code",
   "execution_count": null,
   "metadata": {},
   "outputs": [],
   "source": [
    "# store the names of the actives screened using the neural network model in a list\n",
    "idx = np.nonzero(uY > 0.5)[0]\n",
    "d =[]\n",
    "for i in list(idx):\n",
    "    d.append(udataset.iloc[i]['Name'])\n",
    "\n",
    "# save the list of names into a csv file\n",
    "with open(\"output_hits_7196.csv\", \"w\") as outfile:\n",
    "    for entries in d:\n",
    "        outfile.write(entries)\n",
    "        outfile.write(\"\\n\")"
   ]
  }
 ],
 "metadata": {
  "kernelspec": {
   "display_name": "ml-env",
   "language": "python",
   "name": "ml-env"
  },
  "language_info": {
   "codemirror_mode": {
    "name": "ipython",
    "version": 3
   },
   "file_extension": ".py",
   "mimetype": "text/x-python",
   "name": "python",
   "nbconvert_exporter": "python",
   "pygments_lexer": "ipython3",
   "version": "3.7.2"
  }
 },
 "nbformat": 4,
 "nbformat_minor": 2
}
